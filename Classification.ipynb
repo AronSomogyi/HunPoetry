{
 "cells": [
  {
   "cell_type": "markdown",
   "metadata": {},
   "source": [
    "# Prep"
   ]
  },
  {
   "cell_type": "code",
   "execution_count": 44,
   "metadata": {},
   "outputs": [
    {
     "data": {
      "text/plain": [
       "[None,\n",
       " None,\n",
       " None,\n",
       " None,\n",
       " None,\n",
       " None,\n",
       " None,\n",
       " None,\n",
       " None,\n",
       " None,\n",
       " None,\n",
       " None,\n",
       " None,\n",
       " None,\n",
       " None,\n",
       " None]"
      ]
     },
     "execution_count": null,
     "metadata": {},
     "output_type": "execute_result"
    }
   ],
   "source": [
    "import pandas as pd\n",
    "from tqdm import tqdm\n",
    "\n",
    "\n",
    "df = pd.read_csv('df_preprocessed.csv')\n",
    "df = df.drop(df.columns[:2], axis = 1)\n",
    "\n",
    "import ast\n",
    "df['poem'] = df['poem'].apply(ast.literal_eval)\n",
    "df['poem_lemma'] = df['poem_lemma'].apply(ast.literal_eval)\n",
    "\n",
    "\n",
    "hun_stopwords = []\n",
    "with open('stopwords.txt','r') as o:\n",
    "    for line in o:\n",
    "        hun_stopwords.append(line)\n",
    "import re\n",
    "hun_stopwords = [re.sub(\"\\n\", \"\", x) for x in hun_stopwords]\n",
    "\n",
    "[hun_stopwords.append(x) for x in \n",
    "    ['hogyha', 'szó', 'mond', 'akar', 'oly', 'beszéd', \n",
    "    'monda', 'miként', 'beszél', 'féle', 'vajha', 'amiképp',\n",
    "    'vesz', 'tesz', 'dal', 'szem']]"
   ]
  },
  {
   "cell_type": "code",
   "execution_count": 45,
   "metadata": {},
   "outputs": [],
   "source": [
    "df['poem_lemma'] = [\" \".join([y for y in x if y not in hun_stopwords]) for x in df.poem_lemma]\n",
    "df = df[['poet', 'poem_lemma']]"
   ]
  },
  {
   "cell_type": "code",
   "execution_count": 6,
   "metadata": {},
   "outputs": [],
   "source": [
    "import spacy\n",
    "import huspacy"
   ]
  },
  {
   "cell_type": "code",
   "execution_count": 66,
   "metadata": {},
   "outputs": [
    {
     "name": "stderr",
     "output_type": "stream",
     "text": [
      "<positron-console-cell-66>:1: DeprecationWarning: DataFrameGroupBy.apply operated on the grouping columns. This behavior is deprecated, and in a future version of pandas the grouping columns will be excluded from the operation. Either pass `include_groups=False` to exclude the groupings or explicitly select the grouping columns after groupby to silence this warning.\n"
     ]
    }
   ],
   "source": [
    "train_df = df.groupby('poet', group_keys=False).apply(lambda x: x.sample(frac=0.77, random_state=42))\n",
    "dev_df = df.drop(train_df.index).apply(lambda x: x.sample(frac=0.6, random_state=42))\n",
    "test_df = df.drop(train_df.index).drop(dev_df.index)\n"
   ]
  },
  {
   "cell_type": "code",
   "execution_count": 67,
   "metadata": {},
   "outputs": [],
   "source": [
    "nlp = spacy.blank('hu')"
   ]
  },
  {
   "cell_type": "code",
   "execution_count": 68,
   "metadata": {},
   "outputs": [],
   "source": [
    "from spacy.tokens import DocBin\n",
    "\n",
    "def convert_from_df(df,outfile, text_column = 'poem_lemma', label_column = 'poet'):\n",
    "    db = DocBin()\n",
    "    \n",
    "    for text, label in zip(df[text_column], df[label_column]):\n",
    "        doc = nlp.make_doc(text)\n",
    "        # Initialize all categories to False\n",
    "        doc.cats = {poet: False for poet in df[label_column].unique()}\n",
    "        # Set the current label category to True\n",
    "        doc.cats[label] = True\n",
    "        db.add(doc)\n",
    "    \n",
    "    db.to_disk(outfile)\n",
    "\n",
    "poet_labels = df.poet.unique()\n",
    "\n",
    "convert_from_df(train_df, outfile=\"./train.spacy\")\n",
    "convert_from_df(dev_df,  outfile=\"./dev.spacy\")\n",
    "convert_from_df(test_df, outfile=\"./test.spacy\")"
   ]
  },
  {
   "cell_type": "code",
   "execution_count": 69,
   "metadata": {},
   "outputs": [
    {
     "name": "stdout",
     "output_type": "stream",
     "text": [
      "\u001b[38;5;3m⚠ To generate a more effective transformer-based config (GPU-only),\r\n",
      "install the spacy-transformers package and re-run this command. The config\r\n",
      "generated now does not use transformers.\u001b[0m\r\n",
      "\u001b[38;5;4mℹ Generated config template specific for your use case\u001b[0m\r\n",
      "- Language: hu\r\n",
      "- Pipeline: textcat\r\n",
      "- Optimize for: efficiency\r\n",
      "- Hardware: CPU\r\n",
      "- Transformer: None\r\n",
      "\u001b[38;5;3m⚠ To generate a more effective transformer-based config (GPU-only),\r\n",
      "install the spacy-transformers package and re-run this command. The config\r\n",
      "generated now does not use transformers.\u001b[0m\r\n",
      "\u001b[38;5;4mℹ Generated config template specific for your use case\u001b[0m\r\n",
      "- Language: hu\r\n",
      "- Pipeline: textcat\r\n",
      "- Optimize for: efficiency\r\n",
      "- Hardware: CPU\r\n",
      "- Transformer: None\r\n"
     ]
    },
    {
     "name": "stdout",
     "output_type": "stream",
     "text": [
      "\u001b[38;5;2m✔ Auto-filled config with all values\u001b[0m\r\n",
      "\u001b[38;5;2m✔ Saved config\u001b[0m\r\n",
      "config.cfg\r\n",
      "You can now add your data and train your pipeline:\r\n",
      "python -m spacy train config.cfg --paths.train ./train.spacy --paths.dev ./dev.spacy\r\n",
      "\u001b[38;5;2m✔ Auto-filled config with all values\u001b[0m\r\n",
      "\u001b[38;5;2m✔ Saved config\u001b[0m\r\n",
      "config.cfg\r\n",
      "You can now add your data and train your pipeline:\r\n",
      "python -m spacy train config.cfg --paths.train ./train.spacy --paths.dev ./dev.spacy\r\n"
     ]
    }
   ],
   "source": [
    "!python -m spacy init config  --lang hu --pipeline textcat --optimize efficiency --force config.cfg"
   ]
  },
  {
   "cell_type": "code",
   "execution_count": 70,
   "metadata": {},
   "outputs": [
    {
     "name": "stdout",
     "output_type": "stream",
     "text": [
      "[2024-12-02 18:00:16,890] [DEBUG] Config overrides from CLI: ['paths.train', 'paths.dev']\r\n",
      "\u001b[38;5;4mℹ Saving to output directory: model\u001b[0m\r\n",
      "\u001b[38;5;4mℹ Using CPU\u001b[0m\r\n",
      "\u001b[38;5;4mℹ To switch to GPU 0, use the option: --gpu-id 0\u001b[0m\r\n",
      "\u001b[1m\r\n",
      "=========================== Initializing pipeline ===========================\u001b[0m\r\n",
      "[2024-12-02 18:00:16,890] [DEBUG] Config overrides from CLI: ['paths.train', 'paths.dev']\r\n",
      "\u001b[38;5;4mℹ Saving to output directory: model\u001b[0m\r\n",
      "\u001b[38;5;4mℹ Using CPU\u001b[0m\r\n",
      "\u001b[38;5;4mℹ To switch to GPU 0, use the option: --gpu-id 0\u001b[0m\r\n",
      "\u001b[1m\r\n",
      "=========================== Initializing pipeline ===========================\u001b[0m\r\n"
     ]
    },
    {
     "name": "stdout",
     "output_type": "stream",
     "text": [
      "[2024-12-02 18:00:17,028] [INFO] Set up nlp object from config\r\n",
      "[2024-12-02 18:00:17,036] [DEBUG] Loading corpus from path: dev.spacy\r\n",
      "[2024-12-02 18:00:17,037] [DEBUG] Loading corpus from path: train.spacy\r\n",
      "[2024-12-02 18:00:17,037] [INFO] Pipeline: ['textcat']\r\n",
      "[2024-12-02 18:00:17,039] [INFO] Created vocabulary\r\n",
      "[2024-12-02 18:00:17,039] [INFO] Finished initializing nlp object\r\n",
      "[2024-12-02 18:00:17,028] [INFO] Set up nlp object from config\r\n",
      "[2024-12-02 18:00:17,036] [DEBUG] Loading corpus from path: dev.spacy\r\n",
      "[2024-12-02 18:00:17,037] [DEBUG] Loading corpus from path: train.spacy\r\n",
      "[2024-12-02 18:00:17,037] [INFO] Pipeline: ['textcat']\r\n",
      "[2024-12-02 18:00:17,039] [INFO] Created vocabulary\r\n",
      "[2024-12-02 18:00:17,039] [INFO] Finished initializing nlp object\r\n"
     ]
    },
    {
     "name": "stdout",
     "output_type": "stream",
     "text": [
      "[2024-12-02 18:00:30,685] [INFO] Initialized pipeline components: ['textcat']\r\n",
      "\u001b[38;5;2m✔ Initialized pipeline\u001b[0m\r\n",
      "\u001b[1m\r\n",
      "============================= Training pipeline =============================\u001b[0m\r\n",
      "[2024-12-02 18:00:30,693] [DEBUG] Loading corpus from path: dev.spacy\r\n",
      "[2024-12-02 18:00:30,685] [INFO] Initialized pipeline components: ['textcat']\r\n",
      "\u001b[38;5;2m✔ Initialized pipeline\u001b[0m\r\n",
      "\u001b[1m\r\n",
      "============================= Training pipeline =============================\u001b[0m\r\n",
      "[2024-12-02 18:00:30,693] [DEBUG] Loading corpus from path: dev.spacy\r\n"
     ]
    },
    {
     "name": "stdout",
     "output_type": "stream",
     "text": [
      "[2024-12-02 18:00:30,694] [DEBUG] Loading corpus from path: train.spacy\r\n",
      "[2024-12-02 18:00:30,696] [DEBUG] Removed existing output directory: model/model-best\r\n",
      "[2024-12-02 18:00:30,698] [DEBUG] Removed existing output directory: model/model-last\r\n",
      "\u001b[38;5;4mℹ Pipeline: ['textcat']\u001b[0m\r\n",
      "\u001b[38;5;4mℹ Initial learn rate: 0.001\u001b[0m\r\n",
      "E    #       LOSS TEXTCAT  CATS_SCORE  SCORE \r\n",
      "---  ------  ------------  ----------  ------\r\n",
      "[2024-12-02 18:00:30,694] [DEBUG] Loading corpus from path: train.spacy\r\n",
      "[2024-12-02 18:00:30,696] [DEBUG] Removed existing output directory: model/model-best\r\n",
      "[2024-12-02 18:00:30,698] [DEBUG] Removed existing output directory: model/model-last\r\n",
      "\u001b[38;5;4mℹ Pipeline: ['textcat']\u001b[0m\r\n",
      "\u001b[38;5;4mℹ Initial learn rate: 0.001\u001b[0m\r\n",
      "E    #       LOSS TEXTCAT  CATS_SCORE  SCORE \r\n",
      "---  ------  ------------  ----------  ------\r\n"
     ]
    },
    {
     "name": "stdout",
     "output_type": "stream",
     "text": [
      "  0       0          0.07        1.55    0.02\r\n",
      "  0       0          0.07        1.55    0.02\r\n"
     ]
    },
    {
     "name": "stdout",
     "output_type": "stream",
     "text": [
      "  0     200         13.20       24.23    0.24\r\n",
      "  0     200         13.20       24.23    0.24\r\n"
     ]
    },
    {
     "name": "stdout",
     "output_type": "stream",
     "text": [
      "  0     400         11.36       44.02    0.44\r\n",
      "  0     400         11.36       44.02    0.44\r\n"
     ]
    },
    {
     "name": "stdout",
     "output_type": "stream",
     "text": [
      "  0     600          8.70       54.47    0.54\r\n",
      "  0     600          8.70       54.47    0.54\r\n"
     ]
    },
    {
     "name": "stdout",
     "output_type": "stream",
     "text": [
      "  0     800          7.40       60.65    0.61\r\n",
      "  0     800          7.40       60.65    0.61\r\n"
     ]
    },
    {
     "name": "stdout",
     "output_type": "stream",
     "text": [
      "  0    1000          6.82       68.82    0.69\r\n",
      "  0    1000          6.82       68.82    0.69\r\n"
     ]
    },
    {
     "name": "stdout",
     "output_type": "stream",
     "text": [
      "  0    1200          6.12       74.68    0.75\r\n",
      "  0    1200          6.12       74.68    0.75\r\n"
     ]
    },
    {
     "name": "stdout",
     "output_type": "stream",
     "text": [
      "  0    1400          4.87       76.30    0.76\r\n",
      "  0    1400          4.87       76.30    0.76\r\n"
     ]
    },
    {
     "name": "stdout",
     "output_type": "stream",
     "text": [
      "  0    1600          4.40       77.13    0.77\r\n",
      "  0    1600          4.40       77.13    0.77\r\n"
     ]
    },
    {
     "name": "stdout",
     "output_type": "stream",
     "text": [
      "  0    1800          4.66       78.30    0.78\r\n",
      "  0    1800          4.66       78.30    0.78\r\n"
     ]
    },
    {
     "name": "stdout",
     "output_type": "stream",
     "text": [
      "  1    2000          2.22       78.69    0.79\r\n",
      "  1    2000          2.22       78.69    0.79\r\n"
     ]
    },
    {
     "name": "stdout",
     "output_type": "stream",
     "text": [
      "  1    2200          1.45       78.19    0.78\r\n",
      "  1    2200          1.45       78.19    0.78\r\n"
     ]
    },
    {
     "name": "stdout",
     "output_type": "stream",
     "text": [
      "  1    2400          1.21       78.73    0.79\r\n",
      "  1    2400          1.21       78.73    0.79\r\n"
     ]
    },
    {
     "name": "stdout",
     "output_type": "stream",
     "text": [
      "  2    2600          1.25       80.94    0.81\r\n",
      "  2    2600          1.25       80.94    0.81\r\n"
     ]
    },
    {
     "name": "stdout",
     "output_type": "stream",
     "text": [
      "  2    2800          0.63       80.76    0.81\r\n",
      "  2    2800          0.63       80.76    0.81\r\n"
     ]
    },
    {
     "name": "stdout",
     "output_type": "stream",
     "text": [
      "  2    3000          0.75       81.15    0.81\r\n",
      "  2    3000          0.75       81.15    0.81\r\n"
     ]
    },
    {
     "name": "stdout",
     "output_type": "stream",
     "text": [
      "  3    3200          0.68       80.97    0.81\r\n",
      "  3    3200          0.68       80.97    0.81\r\n"
     ]
    },
    {
     "name": "stdout",
     "output_type": "stream",
     "text": [
      "  3    3400          0.42       80.33    0.80\r\n",
      "  3    3400          0.42       80.33    0.80\r\n"
     ]
    },
    {
     "name": "stdout",
     "output_type": "stream",
     "text": [
      "  4    3600          0.38       80.11    0.80\r\n",
      "  4    3600          0.38       80.11    0.80\r\n"
     ]
    },
    {
     "name": "stdout",
     "output_type": "stream",
     "text": [
      "  4    3800          0.30       80.46    0.80\r\n",
      "  4    3800          0.30       80.46    0.80\r\n"
     ]
    },
    {
     "name": "stdout",
     "output_type": "stream",
     "text": [
      "  4    4000          0.23       80.34    0.80\r\n",
      "  4    4000          0.23       80.34    0.80\r\n"
     ]
    },
    {
     "name": "stdout",
     "output_type": "stream",
     "text": [
      "  5    4200          0.34       80.23    0.80\r\n",
      "  5    4200          0.34       80.23    0.80\r\n"
     ]
    },
    {
     "name": "stdout",
     "output_type": "stream",
     "text": [
      "  5    4400          0.38       79.78    0.80\r\n",
      "  5    4400          0.38       79.78    0.80\r\n"
     ]
    },
    {
     "name": "stdout",
     "output_type": "stream",
     "text": [
      "  6    4600          0.28       79.68    0.80\r\n",
      "  6    4600          0.28       79.68    0.80\r\n"
     ]
    },
    {
     "name": "stdout",
     "output_type": "stream",
     "text": [
      "\u001b[38;5;2m✔ Saved pipeline to output directory\u001b[0m\r\n",
      "model/model-last\r\n",
      "\u001b[38;5;2m✔ Saved pipeline to output directory\u001b[0m\r\n",
      "model/model-last\r\n"
     ]
    }
   ],
   "source": [
    "!python -m spacy train config.cfg --paths.train ./train.spacy --paths.dev ./dev.spacy --output model --verbose"
   ]
  },
  {
   "cell_type": "code",
   "execution_count": 73,
   "metadata": {},
   "outputs": [
    {
     "name": "stdout",
     "output_type": "stream",
     "text": [
      "\u001b[38;5;4mℹ Using CPU\u001b[0m\r\n",
      "\u001b[38;5;4mℹ To switch to GPU 0, use the option: --gpu-id 0\u001b[0m\r\n",
      "\u001b[38;5;4mℹ Using CPU\u001b[0m\r\n",
      "\u001b[38;5;4mℹ To switch to GPU 0, use the option: --gpu-id 0\u001b[0m\r\n"
     ]
    },
    {
     "name": "stdout",
     "output_type": "stream",
     "text": [
      "\u001b[1m\r\n",
      "================================== Results ==================================\u001b[0m\r\n",
      "\r\n",
      "TOK                 100.00\r\n",
      "TEXTCAT (macro F)   74.44 \r\n",
      "SPEED               247960\r\n",
      "\r\n",
      "\u001b[1m\r\n",
      "=========================== Textcat F (per label) ===========================\u001b[0m\r\n",
      "\r\n",
      "                   P       R       F\r\n",
      "Ady            81.20   89.62   85.20\r\n",
      "AranyJ         72.09   81.58   76.54\r\n",
      "Babits         68.29   62.22   65.12\r\n",
      "Balassi       100.00   77.78   87.50\r\n",
      "Csokonai       94.44   85.00   89.47\r\n",
      "Jozsef         81.13   74.14   77.48\r\n",
      "Karinthy        0.00    0.00    0.00\r\n",
      "Kolcsey       100.00   83.33   90.91\r\n",
      "Kosztolanyi    72.86   82.26   77.27\r\n",
      "Madach        100.00   66.67   80.00\r\n",
      "Petofi         90.54   84.81   87.58\r\n",
      "Radnoti        84.62   64.71   73.33\r\n",
      "Vorosmarty     66.25   92.98   77.37\r\n",
      "\r\n",
      "\u001b[1m\r\n",
      "======================== Textcat ROC AUC (per label) ========================\u001b[0m\r\n",
      "\r\n",
      "              ROC AUC\r\n",
      "Ady              0.97\r\n",
      "AranyJ           0.98\r\n",
      "Babits           0.94\r\n",
      "Balassi          1.00\r\n",
      "Csokonai         0.98\r\n",
      "Jozsef           0.97\r\n",
      "Karinthy         0.62\r\n",
      "Kolcsey          0.96\r\n",
      "Kosztolanyi      0.98\r\n",
      "Madach           0.98\r\n",
      "Petofi           0.99\r\n",
      "Radnoti          0.99\r\n",
      "Vorosmarty       0.98\r\n",
      "\r\n",
      "\u001b[1m\r\n",
      "================================== Results ==================================\u001b[0m\r\n",
      "\r\n",
      "TOK                 100.00\r\n",
      "TEXTCAT (macro F)   74.44 \r\n",
      "SPEED               247960\r\n",
      "\r\n",
      "\u001b[1m\r\n",
      "=========================== Textcat F (per label) ===========================\u001b[0m\r\n",
      "\r\n",
      "                   P       R       F\r\n",
      "Ady            81.20   89.62   85.20\r\n",
      "AranyJ         72.09   81.58   76.54\r\n",
      "Babits         68.29   62.22   65.12\r\n",
      "Balassi       100.00   77.78   87.50\r\n",
      "Csokonai       94.44   85.00   89.47\r\n",
      "Jozsef         81.13   74.14   77.48\r\n",
      "Karinthy        0.00    0.00    0.00\r\n",
      "Kolcsey       100.00   83.33   90.91\r\n",
      "Kosztolanyi    72.86   82.26   77.27\r\n",
      "Madach        100.00   66.67   80.00\r\n",
      "Petofi         90.54   84.81   87.58\r\n",
      "Radnoti        84.62   64.71   73.33\r\n",
      "Vorosmarty     66.25   92.98   77.37\r\n",
      "\r\n",
      "\u001b[1m\r\n",
      "======================== Textcat ROC AUC (per label) ========================\u001b[0m\r\n",
      "\r\n",
      "              ROC AUC\r\n",
      "Ady              0.97\r\n",
      "AranyJ           0.98\r\n",
      "Babits           0.94\r\n",
      "Balassi          1.00\r\n",
      "Csokonai         0.98\r\n",
      "Jozsef           0.97\r\n",
      "Karinthy         0.62\r\n",
      "Kolcsey          0.96\r\n",
      "Kosztolanyi      0.98\r\n",
      "Madach           0.98\r\n",
      "Petofi           0.99\r\n",
      "Radnoti          0.99\r\n",
      "Vorosmarty       0.98\r\n",
      "\r\n"
     ]
    }
   ],
   "source": [
    "!python -m spacy evaluate ./model/model-best/ ./test.spacy"
   ]
  },
  {
   "cell_type": "code",
   "execution_count": 74,
   "metadata": {},
   "outputs": [],
   "source": [
    "nlp = spacy.load(\"./model/model-best\")"
   ]
  },
  {
   "cell_type": "markdown",
   "metadata": {},
   "source": [
    "# Teszt"
   ]
  },
  {
   "cell_type": "markdown",
   "metadata": {},
   "source": [
    "## Ady: Nyárdélutáni hold rómában"
   ]
  },
  {
   "cell_type": "code",
   "execution_count": 75,
   "metadata": {},
   "outputs": [
    {
     "name": "stdout",
     "output_type": "stream",
     "text": [
      "[('Ady', 0.6256720423698425), ('Babits', 0.18055830895900726), ('Jozsef', 0.05460432171821594), ('Vorosmarty', 0.0539250522851944), ('Petofi', 0.03594687953591347), ('Kosztolanyi', 0.01609889231622219), ('Kolcsey', 0.00993380881845951), ('Csokonai', 0.008644383400678635), ('Madach', 0.007531622424721718), ('AranyJ', 0.003602896584197879), ('Balassi', 0.001917822752147913), ('Radnoti', 0.0008366082911379635), ('Karinthy', 0.0007273107185028493)]\n",
      "[('Ady', 0.6256720423698425), ('Babits', 0.18055830895900726), ('Jozsef', 0.05460432171821594), ('Vorosmarty', 0.0539250522851944), ('Petofi', 0.03594687953591347), ('Kosztolanyi', 0.01609889231622219), ('Kolcsey', 0.00993380881845951), ('Csokonai', 0.008644383400678635), ('Madach', 0.007531622424721718), ('AranyJ', 0.003602896584197879), ('Balassi', 0.001917822752147913), ('Radnoti', 0.0008366082911379635), ('Karinthy', 0.0007273107185028493)]\n"
     ]
    }
   ],
   "source": [
    "doc = nlp(\"\"\"Sandítva száll Rómára\n",
    "Fecske-raj-követséggel,\n",
    "Vigyorog vígan széjjel\n",
    "Nyárdélutáni Hold.\n",
    "Nagy kékség és pirosság\n",
    "Most újból-újból hozzák\n",
    "Régből azt, ami volt.\n",
    "Szent mezők pára-fátylat,\n",
    "Hegyek álom-színt váltnak,\n",
    "Diadalok s romok,\n",
    "Nap s Hold közé beszőve,\n",
    "Hanyattan az Időbe\n",
    "Róma sürög-forog.\n",
    "Óh, gyönyörű örökség,\n",
    "Változó, ős, szent község,\n",
    "Urbs, te feledtető,\n",
    "Az én-élet poklából\n",
    "Lelkem-testem kilábol,\n",
    "Te szent, védő tető.\n",
    "\n",
    "Ím, magam idehoztam,\n",
    "Védj és boríts be mostan,\n",
    "Te szép, te bölcs, örök.\n",
    "Örökkön éltem, élek,\n",
    "Csupán hüvelyt cserélek,\n",
    "Mint Ulisszes-görög.\n",
    "Áldom a nyüzsgő Rómát,\n",
    "Mindennek átfogóját,\n",
    "Pulyásan is nagyot.\n",
    "Ma, hogyha úgy akarnám,\n",
    "Alkonyi álom karján\n",
    "Akár Remus vagyok.\n",
    "Nézem a mai nőket,\n",
    "A volt és lesz időket:\n",
    "Be régen élek itt\n",
    "S be minden élet mindegy\n",
    "S a Hold már ismer minket,\n",
    "Vigyorog s nem hevít:\n",
    "Sandítva száll Rómára.\"\"\")\n",
    "\n",
    "\n",
    "\n",
    "print(sorted(doc.cats.items(), key=lambda item: item[1], reverse=True))"
   ]
  },
  {
   "cell_type": "code",
   "execution_count": 76,
   "metadata": {},
   "outputs": [
    {
     "name": "stdout",
     "output_type": "stream",
     "text": [
      "[('Petofi', 0.6059380173683167), ('Vorosmarty', 0.1437848061323166), ('Ady', 0.08475317806005478), ('AranyJ', 0.052388403564691544), ('Jozsef', 0.041521597653627396), ('Babits', 0.029419589787721634), ('Csokonai', 0.023742645978927612), ('Madach', 0.009019370190799236), ('Kosztolanyi', 0.008703101426362991), ('Kolcsey', 0.00030073453672230244), ('Karinthy', 0.00028921494958922267), ('Radnoti', 8.483553392579779e-05), ('Balassi', 5.458527448354289e-05)]\n",
      "[('Petofi', 0.6059380173683167), ('Vorosmarty', 0.1437848061323166), ('Ady', 0.08475317806005478), ('AranyJ', 0.052388403564691544), ('Jozsef', 0.041521597653627396), ('Babits', 0.029419589787721634), ('Csokonai', 0.023742645978927612), ('Madach', 0.009019370190799236), ('Kosztolanyi', 0.008703101426362991), ('Kolcsey', 0.00030073453672230244), ('Karinthy', 0.00028921494958922267), ('Radnoti', 8.483553392579779e-05), ('Balassi', 5.458527448354289e-05)]\n"
     ]
    }
   ],
   "source": [
    "doc = nlp(\"\"\"\n",
    "A MAGYAR NÉP\n",
    "\t \t\n",
    "\n",
    "Szabad a magyar nép, szabad valahára,\n",
    "Kinek láncot vertek kezére, lábára,\n",
    "S görbedt derekával a rabigát vonta,\n",
    "Mintha csak állat és nem ember lett volna.\n",
    "\n",
    "Szabad a magyar nép, fejét föltarthatja,\n",
    "Kénye-kedve szerint kezeit mozgatja,\n",
    "S mely előbb mint bilincs őtet szorította,\n",
    "A vasat mint kardot ő szorítja mostan.\n",
    "\n",
    "Szabad a magyar nép... lejárt napod, német!\n",
    "Nem táncoltatod te többé ezt a népet,\n",
    "S pióca módjára nem szívod a vérét,\n",
    "Megfizette isten gonoszságod bérét.\n",
    "\n",
    "E földön legyen úr a tót vagy a német?\n",
    "E földön, hol annyi vitéz magyar vérzett!\n",
    "Magyar vér szerezte ezt a dicső hazát,\n",
    "És magyar vér ezer évig ótalmazá!\n",
    "\n",
    "Nincs itt urasága csak az egy magyarnak,\n",
    "S kik a mi fejünkre állani akarnak,\n",
    "Azoknak mi állunk feje tetejére,\n",
    "S vágjuk sarkantyúnkat szíve közepébe!\n",
    "\n",
    "Vigyázz, magyar, vigyázz, éjjel is ébren légy,\n",
    "Ki tudja, mikor üt rajtad az ellenség?\n",
    "Ha eljön, ugy jőjön, hogy készen találjon,\n",
    "Még a félhalott se maradjon az ágyon!\n",
    "\n",
    "Haza és szabadság, ez a két szó, melyet\n",
    "Először tanuljon dajkától a gyermek,\n",
    "És ha a csatában a halál eléri,\n",
    "Utószor e két szót mondja ki a férfi!\"\"\")\n",
    "\n",
    "\n",
    "\n",
    "print(sorted(doc.cats.items(), key=lambda item: item[1], reverse=True))"
   ]
  }
 ],
 "metadata": {
  "language_info": {
   "name": "python"
  }
 },
 "nbformat": 4,
 "nbformat_minor": 2
}
